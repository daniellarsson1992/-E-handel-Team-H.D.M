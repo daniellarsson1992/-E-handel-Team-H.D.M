{
 "cells": [
  {
   "cell_type": "markdown",
   "id": "1e04e9d1",
   "metadata": {},
   "source": [
    "# Notebook: E-handelsplattformen (Grupp 1: Daniel, Hamed, Martin W)"
   ]
  },
  {
   "cell_type": "markdown",
   "id": "6adb06cf",
   "metadata": {},
   "source": [
    "Vi är ett team som analyserar försäljningsdata från en påhittad e-handelsplattform.  \n",
    "Vi ska ge ledningen ett snabbt beslutsunderlag inför nästa kampanjperiod.\n",
    "\n",
    "Datasetet innehåller:\n",
    "- `order_id`\n",
    "- `date`\n",
    "- `city`\n",
    "- `category`\n",
    "- `price`\n",
    "- `units`\n",
    "- `revenue`"
   ]
  },
  {
   "cell_type": "code",
   "execution_count": null,
   "id": "2e329c0f",
   "metadata": {},
   "outputs": [],
   "source": [
    "# För att få relative path utifrån notebookens workspace mapp.\n",
    "import sys, os \n",
    "sys.path.append(os.path.abspath(\"..\"))"
   ]
  },
  {
   "cell_type": "code",
   "execution_count": null,
   "id": "b50f2470",
   "metadata": {},
   "outputs": [],
   "source": [
    "# Läs in data\n",
    "from src.io_utils import load_csv\n",
    "df = load_csv(\"../data/ecommerce_sales.csv\")\n",
    "# Kolla 2 rader\n",
    "df.head(2)"
   ]
  },
  {
   "cell_type": "code",
   "execution_count": null,
   "id": "bc70ce4f",
   "metadata": {},
   "outputs": [],
   "source": [
    "# Importera funktioner \n",
    "from src.metrics import total_revenue, total_units, aov, revenue_by_category, revenue_by_city, top_categories, median_revenue, standard_deviation, revenue_over_time\n",
    "import pandas as pd"
   ]
  },
  {
   "cell_type": "markdown",
   "id": "e553be9d",
   "metadata": {},
   "source": [
    "---"
   ]
  },
  {
   "cell_type": "markdown",
   "id": "ad480192",
   "metadata": {},
   "source": [
    "Vi ska svara följande affärsfrågor:\n",
    "1. Vad säljer? – Vilka kategorier driver mest intäkt?  \n",
    "2. Var säljer vi? – Vilka städer står för störst intäkt?  \n",
    "3. När säljer vi? – Finns säsongsmönster i försäljningen?  \n",
    "4. Hur ser en typisk order ut? – AOV (Average Order Value).  \n",
    "5. Topp-3 kategorier efter intäkt.  \n",
    "6. Eventuella avvikelser.  "
   ]
  },
  {
   "cell_type": "code",
   "execution_count": null,
   "id": "d996b4fa",
   "metadata": {},
   "outputs": [],
   "source": [
    "# Visa metrics\n",
    "print(\"Total Revenue:\", total_revenue(df))\n",
    "print(\"Total Units Sold:\", total_units(df))\n",
    "print(\"Average Order Value (AOV):\", aov(df))\n",
    "\n",
    "print(\"\\nRevenue by Category:\\n\", revenue_by_category(df))\n",
    "print(\"\\nRevenue by City:\\n\", revenue_by_city(df))\n",
    "print(\"\\nTop Categories:\\n\", top_categories(df))\n",
    "print(\"\\nMedian Revenue:\\n\", median_revenue(df))\n",
    "print(\"\\nStandard deviation:\\n\", standard_deviation(df))"
   ]
  },
  {
   "cell_type": "code",
   "execution_count": null,
   "id": "5f158480",
   "metadata": {},
   "outputs": [],
   "source": [
    "# Fråga 3 (vecko-snitt)\n",
    "rev = pd.DataFrame(revenue_over_time(df))\n",
    "rev.head(2)\n",
    "\n",
    "rev[\"row_nr\"] = range(len(rev))             # gör radnummer kolumn\n",
    "rev[\"weekly\"] = (rev[\"row_nr\"] // 7) + 1    # gör veckonummer kolumn\n",
    "rev.head(2)\n",
    "\n",
    "weekly_avg = rev.groupby(\"weekly\")['revenue'].mean() # aggregera värden\n",
    "weekly_avg.plot(x=\"date\",y=\"revenue\",title=\"Försäljning per vecka\") # enkel plot"
   ]
  },
  {
   "cell_type": "code",
   "execution_count": null,
   "id": "0fbfdd2e",
   "metadata": {},
   "outputs": [],
   "source": [
    "# Fråga 3 (månads-snitt)\n",
    "rev[\"monthly\"] = (rev[\"row_nr\"] // 30) + 1 # gör månadnummer kolumn\n",
    "monthly_avg = rev.groupby(\"monthly\")[\"revenue\"].mean() # aggregera värden\n",
    "monthly_avg.plot(x=\"date\",y=\"revenue\",title=\"Försäljning per månad\") # enkel plot"
   ]
  },
  {
   "cell_type": "code",
   "execution_count": null,
   "id": "98acf64d",
   "metadata": {},
   "outputs": [],
   "source": [
    "q1 = df[\"revenue\"].quantile(0.25)\n",
    "q3 = df[\"revenue\"].quantile(0.75)\n",
    "iqr = q3 - q1\n",
    "high_bound = q3 + 1.5 * iqr\n",
    "lower_bound = q1 - 1.5 * iqr\n",
    "temp = df[df['revenue'] > high_bound]\n",
    "len(temp)"
   ]
  },
  {
   "cell_type": "code",
   "execution_count": null,
   "id": "1191c77c",
   "metadata": {},
   "outputs": [],
   "source": [
    "# Anekdot: vi kan titta på z-score istället för IQR outliers.\n",
    "z = (df['revenue'] - df['revenue'].mean()) / df['revenue'].std()\n",
    "z"
   ]
  },
  {
   "cell_type": "code",
   "execution_count": null,
   "id": "20119bb3",
   "metadata": {},
   "outputs": [],
   "source": [
    "# Vi testar nu dataklassen vi skapat i ecommerce.py\n",
    "from src.ecommerce import Analyzer\n",
    "\n",
    "TEMP = Analyzer(df)\n",
    "TEMP.compute_all_calculations()\n",
    "TEMP.make_the_plots()\n",
    "print(TEMP.summary())"
   ]
  },
  {
   "cell_type": "markdown",
   "id": "03215d04",
   "metadata": {},
   "source": [
    "---"
   ]
  },
  {
   "cell_type": "code",
   "execution_count": null,
   "id": "3b2313e8",
   "metadata": {},
   "outputs": [],
   "source": [
    "# Visualizations\n",
    "from src.viz import plot_revenue_by_category, plot_sales_over_time\n",
    "\n",
    "fig1, ax1 = plot_revenue_by_category(df)\n",
    "fig2, ax2 = plot_sales_over_time(df)"
   ]
  }
 ],
 "metadata": {
  "kernelspec": {
   "display_name": "Python 3",
   "language": "python",
   "name": "python3"
  },
  "language_info": {
   "codemirror_mode": {
    "name": "ipython",
    "version": 3
   },
   "file_extension": ".py",
   "mimetype": "text/x-python",
   "name": "python",
   "nbconvert_exporter": "python",
   "pygments_lexer": "ipython3",
   "version": "3.11.9"
  }
 },
 "nbformat": 4,
 "nbformat_minor": 5
}
