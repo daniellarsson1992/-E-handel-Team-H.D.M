{
 "cells": [
  {
   "cell_type": "markdown",
   "id": "1e04e9d1",
   "metadata": {},
   "source": [
    "# Notebook: E-handelsplattformen (Grupp 1: Daniel, Hamed, Martin W)"
   ]
  },
  {
   "cell_type": "markdown",
   "id": "6adb06cf",
   "metadata": {},
   "source": [
    "Vi är ett team som analyserar försäljningsdata från en påhittad e-handelsplattform.  \n",
    "Vi ska ge ledningen ett snabbt beslutsunderlag inför nästa kampanjperiod.\n",
    "\n",
    "Datasetet innehåller:\n",
    "- `order_id`\n",
    "- `date`\n",
    "- `city`\n",
    "- `category`\n",
    "- `price`\n",
    "- `units`\n",
    "- `revenue`"
   ]
  },
  {
   "cell_type": "code",
   "execution_count": 6,
   "id": "2e329c0f",
   "metadata": {},
   "outputs": [],
   "source": [
    "# För att få relative path utifrån notebookens workspace mapp.\n",
    "import sys, os \n",
    "sys.path.append(os.path.abspath(\"..\"))"
   ]
  },
  {
   "cell_type": "code",
   "execution_count": 7,
   "id": "b50f2470",
   "metadata": {},
   "outputs": [
    {
     "data": {
      "text/html": [
       "<div>\n",
       "<style scoped>\n",
       "    .dataframe tbody tr th:only-of-type {\n",
       "        vertical-align: middle;\n",
       "    }\n",
       "\n",
       "    .dataframe tbody tr th {\n",
       "        vertical-align: top;\n",
       "    }\n",
       "\n",
       "    .dataframe thead th {\n",
       "        text-align: right;\n",
       "    }\n",
       "</style>\n",
       "<table border=\"1\" class=\"dataframe\">\n",
       "  <thead>\n",
       "    <tr style=\"text-align: right;\">\n",
       "      <th></th>\n",
       "      <th>order_id</th>\n",
       "      <th>date</th>\n",
       "      <th>city</th>\n",
       "      <th>category</th>\n",
       "      <th>price</th>\n",
       "      <th>units</th>\n",
       "      <th>revenue</th>\n",
       "    </tr>\n",
       "  </thead>\n",
       "  <tbody>\n",
       "    <tr>\n",
       "      <th>0</th>\n",
       "      <td>100000</td>\n",
       "      <td>2024-04-19</td>\n",
       "      <td>Stockholm</td>\n",
       "      <td>Sports</td>\n",
       "      <td>530.95</td>\n",
       "      <td>4</td>\n",
       "      <td>2123.80</td>\n",
       "    </tr>\n",
       "    <tr>\n",
       "      <th>1</th>\n",
       "      <td>100001</td>\n",
       "      <td>2024-05-06</td>\n",
       "      <td>Malmö</td>\n",
       "      <td>Sports</td>\n",
       "      <td>653.28</td>\n",
       "      <td>3</td>\n",
       "      <td>1959.84</td>\n",
       "    </tr>\n",
       "  </tbody>\n",
       "</table>\n",
       "</div>"
      ],
      "text/plain": [
       "   order_id        date       city category   price  units  revenue\n",
       "0    100000  2024-04-19  Stockholm   Sports  530.95      4  2123.80\n",
       "1    100001  2024-05-06      Malmö   Sports  653.28      3  1959.84"
      ]
     },
     "execution_count": 7,
     "metadata": {},
     "output_type": "execute_result"
    }
   ],
   "source": [
    "# Läs in data\n",
    "from src.io_utils import load_csv\n",
    "df = load_csv(\"../data/ecommerce_sales.csv\")\n",
    "# Kolla 2 rader\n",
    "df.head(2)"
   ]
  },
  {
   "cell_type": "code",
   "execution_count": null,
   "id": "bc70ce4f",
   "metadata": {},
   "outputs": [
    {
     "ename": "ImportError",
     "evalue": "cannot import name 'standard_deviation' from 'src.metrics' (c:\\Users\\danie\\OneDrive\\Desktop\\Grupparbete Ehandel\\-E-handel-Team-H.D.M\\src\\metrics.py)",
     "output_type": "error",
     "traceback": [
      "\u001b[31m---------------------------------------------------------------------------\u001b[39m",
      "\u001b[31mImportError\u001b[39m                               Traceback (most recent call last)",
      "\u001b[36mCell\u001b[39m\u001b[36m \u001b[39m\u001b[32mIn[8]\u001b[39m\u001b[32m, line 2\u001b[39m\n\u001b[32m      1\u001b[39m \u001b[38;5;66;03m# Importera funktioner \u001b[39;00m\n\u001b[32m----> \u001b[39m\u001b[32m2\u001b[39m \u001b[38;5;28;01mfrom\u001b[39;00m\u001b[38;5;250m \u001b[39m\u001b[34;01msrc\u001b[39;00m\u001b[34;01m.\u001b[39;00m\u001b[34;01mmetrics\u001b[39;00m\u001b[38;5;250m \u001b[39m\u001b[38;5;28;01mimport\u001b[39;00m total_revenue, total_units, aov, revenue_by_category, revenue_by_city, top_categories, median_revenue, standard_deviation\n\u001b[32m      3\u001b[39m \u001b[38;5;28;01mimport\u001b[39;00m\u001b[38;5;250m \u001b[39m\u001b[34;01mpandas\u001b[39;00m\u001b[38;5;250m \u001b[39m\u001b[38;5;28;01mas\u001b[39;00m\u001b[38;5;250m \u001b[39m\u001b[34;01mpd\u001b[39;00m\n",
      "\u001b[31mImportError\u001b[39m: cannot import name 'standard_deviation' from 'src.metrics' (c:\\Users\\danie\\OneDrive\\Desktop\\Grupparbete Ehandel\\-E-handel-Team-H.D.M\\src\\metrics.py)"
     ]
    }
   ],
   "source": [
    "# Importera funktioner \n",
    "from src.metrics import total_revenue, total_units, aov, revenue_by_category, revenue_by_city, top_categories, median_revenue, standard_deviation, revenue_over_time\n",
    "import pandas as pd"
   ]
  },
  {
   "cell_type": "markdown",
   "id": "e553be9d",
   "metadata": {},
   "source": [
    "---"
   ]
  },
  {
   "cell_type": "markdown",
   "id": "ad480192",
   "metadata": {},
   "source": [
    "Vi ska svara följande affärsfrågor:\n",
    "1. Vad säljer? – Vilka kategorier driver mest intäkt?  \n",
    "2. Var säljer vi? – Vilka städer står för störst intäkt?  \n",
    "3. När säljer vi? – Finns säsongsmönster i försäljningen?  \n",
    "4. Hur ser en typisk order ut? – AOV (Average Order Value).  \n",
    "5. Topp-3 kategorier efter intäkt.  \n",
    "6. Eventuella avvikelser.  "
   ]
  },
  {
   "cell_type": "code",
   "execution_count": null,
   "id": "d996b4fa",
   "metadata": {},
   "outputs": [
    {
     "name": "stdout",
     "output_type": "stream",
     "text": [
      "Total Revenue: 3502767.2300000004\n",
      "Total Units Sold: 7463\n",
      "Average Order Value (AOV): 469.351096073965\n",
      "\n",
      "Revenue by Category:\n",
      " category\n",
      "Electronics    1364228.07\n",
      "Sports          734653.42\n",
      "Clothing        586744.91\n",
      "Home            511070.87\n",
      "Beauty          163053.97\n",
      "Toys            143015.99\n",
      "Name: revenue, dtype: float64\n",
      "\n",
      "Revenue by City:\n",
      " city\n",
      "Stockholm    1227201.94\n",
      "Göteborg      859019.65\n",
      "Malmö         567926.32\n",
      "Uppsala       551478.42\n",
      "Västerås      297140.90\n",
      "Name: revenue, dtype: float64\n",
      "\n",
      "Top Categories:\n",
      " category\n",
      "Electronics    1364228.07\n",
      "Sports          734653.42\n",
      "Clothing        586744.91\n",
      "Name: revenue, dtype: float64\n",
      "\n",
      "Median Revenue:\n",
      " 1088.69\n"
     ]
    }
   ],
   "source": [
    "# Visa metrics\n",
    "print(\"Total Revenue:\", total_revenue(df))\n",
    "print(\"Total Units Sold:\", total_units(df))\n",
    "print(\"Average Order Value (AOV):\", aov(df))\n",
    "\n",
    "print(\"\\nRevenue by Category:\\n\", revenue_by_category(df))\n",
    "print(\"\\nRevenue by City:\\n\", revenue_by_city(df))\n",
    "print(\"\\nTop Categories:\\n\", top_categories(df))\n",
    "print(\"\\nMedian Revenue:\\n\", median_revenue(df))\n",
    "print(\"\\nStandard deviation:\\n\", standard_deviation(df))"
   ]
  },
  {
   "cell_type": "code",
   "execution_count": null,
   "id": "64bed9f5",
   "metadata": {},
   "outputs": [],
   "source": [
    "# Beskriva ovan..."
   ]
  },
  {
   "cell_type": "code",
   "execution_count": null,
   "id": "a42c767c",
   "metadata": {},
   "outputs": [],
   "source": [
    "# Visualizations\n",
    "from src.viz import plot_revenue_by_category, plot_sales_over_time\n",
    "\n",
    "fig1, ax1 = plot_revenue_by_category(df)\n",
    "fig2, ax2 = plot_sales_over_time(df)"
   ]
  },
  {
   "cell_type": "code",
   "execution_count": null,
   "id": "3ed9900b",
   "metadata": {},
   "outputs": [],
   "source": [
    "# beskriva ovan.."
   ]
  },
  {
   "cell_type": "markdown",
   "id": "03215d04",
   "metadata": {},
   "source": [
    "---"
   ]
  }
 ],
 "metadata": {
  "kernelspec": {
   "display_name": "Python 3",
   "language": "python",
   "name": "python3"
  },
  "language_info": {
   "codemirror_mode": {
    "name": "ipython",
    "version": 3
   },
   "file_extension": ".py",
   "mimetype": "text/x-python",
   "name": "python",
   "nbconvert_exporter": "python",
   "pygments_lexer": "ipython3",
   "version": "3.13.7"
  }
 },
 "nbformat": 4,
 "nbformat_minor": 5
}
