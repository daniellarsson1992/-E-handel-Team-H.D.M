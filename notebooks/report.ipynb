{
 "cells": [
  {
   "cell_type": "markdown",
   "id": "1e04e9d1",
   "metadata": {},
   "source": [
    "# Notebook: E-handelsplattformen (Grupp 1: Daniel, Hami, Martin W)"
   ]
  },
  {
   "cell_type": "markdown",
   "id": "6adb06cf",
   "metadata": {},
   "source": [
    "Vi är ett team som analyserar försäljningsdata från en påhittad e-handelsplattform.  \n",
    "Vi ska ge ledningen ett snabbt beslutsunderlag inför nästa kampanjperiod.\n",
    "\n",
    "Datasetet innehåller:\n",
    "- `order_id`\n",
    "- `date`\n",
    "- `city`\n",
    "- `category`\n",
    "- `price`\n",
    "- `units`\n",
    "- `revenue`"
   ]
  },
  {
   "cell_type": "code",
   "execution_count": 12,
   "id": "2e329c0f",
   "metadata": {},
   "outputs": [],
   "source": [
    "# För att få relative path utifrån notebookens workspace mapp.\n",
    "import sys, os \n",
    "sys.path.append(os.path.abspath(\"..\"))"
   ]
  },
  {
   "cell_type": "code",
   "execution_count": 13,
   "id": "b50f2470",
   "metadata": {},
   "outputs": [
    {
     "data": {
      "text/html": [
       "<div>\n",
       "<style scoped>\n",
       "    .dataframe tbody tr th:only-of-type {\n",
       "        vertical-align: middle;\n",
       "    }\n",
       "\n",
       "    .dataframe tbody tr th {\n",
       "        vertical-align: top;\n",
       "    }\n",
       "\n",
       "    .dataframe thead th {\n",
       "        text-align: right;\n",
       "    }\n",
       "</style>\n",
       "<table border=\"1\" class=\"dataframe\">\n",
       "  <thead>\n",
       "    <tr style=\"text-align: right;\">\n",
       "      <th></th>\n",
       "      <th>order_id</th>\n",
       "      <th>date</th>\n",
       "      <th>city</th>\n",
       "      <th>category</th>\n",
       "      <th>price</th>\n",
       "      <th>units</th>\n",
       "      <th>revenue</th>\n",
       "    </tr>\n",
       "  </thead>\n",
       "  <tbody>\n",
       "    <tr>\n",
       "      <th>0</th>\n",
       "      <td>100000</td>\n",
       "      <td>2024-04-19</td>\n",
       "      <td>Stockholm</td>\n",
       "      <td>Sports</td>\n",
       "      <td>530.95</td>\n",
       "      <td>4</td>\n",
       "      <td>2123.80</td>\n",
       "    </tr>\n",
       "    <tr>\n",
       "      <th>1</th>\n",
       "      <td>100001</td>\n",
       "      <td>2024-05-06</td>\n",
       "      <td>Malmö</td>\n",
       "      <td>Sports</td>\n",
       "      <td>653.28</td>\n",
       "      <td>3</td>\n",
       "      <td>1959.84</td>\n",
       "    </tr>\n",
       "  </tbody>\n",
       "</table>\n",
       "</div>"
      ],
      "text/plain": [
       "   order_id        date       city category   price  units  revenue\n",
       "0    100000  2024-04-19  Stockholm   Sports  530.95      4  2123.80\n",
       "1    100001  2024-05-06      Malmö   Sports  653.28      3  1959.84"
      ]
     },
     "execution_count": 13,
     "metadata": {},
     "output_type": "execute_result"
    }
   ],
   "source": [
    "# Läs in data\n",
    "from src.io_utils import load_csv\n",
    "df = load_csv(\"../data/ecommerce_sales.csv\")\n",
    "# Kolla 2 rader\n",
    "df.head(2)"
   ]
  },
  {
   "cell_type": "markdown",
   "id": "e553be9d",
   "metadata": {},
   "source": [
    "---"
   ]
  },
  {
   "cell_type": "markdown",
   "id": "ad480192",
   "metadata": {},
   "source": [
    "Vi ska svara följande affärsfrågor:\n",
    "1. Vad säljer? – Vilka kategorier driver mest intäkt?  \n",
    "2. Var säljer vi? – Vilka städer står för störst intäkt?  \n",
    "3. När säljer vi? – Finns säsongsmönster i försäljningen?  \n",
    "4. Hur ser en typisk order ut? – AOV (Average Order Value).  \n",
    "5. Topp-3 kategorier efter intäkt.  \n",
    "6. Eventuella avvikelser.  "
   ]
  },
  {
   "cell_type": "code",
   "execution_count": 14,
   "id": "b2d1b76c",
   "metadata": {},
   "outputs": [],
   "source": [
    "# Importera funktioner \n",
    "from src.metrics import total_revenue, total_units, aov, revenue_by_category, revenue_by_city, top_categories\n",
    "import pandas as pd"
   ]
  },
  {
   "cell_type": "code",
   "execution_count": 15,
   "id": "d996b4fa",
   "metadata": {},
   "outputs": [
    {
     "name": "stdout",
     "output_type": "stream",
     "text": [
      "Total Revenue: 3502767.2300000004\n",
      "Total Units Sold: 7463\n",
      "Average Order Value (AOV): 469.351096073965\n"
     ]
    },
    {
     "ename": "AttributeError",
     "evalue": "'Series' object has no attribute 'sort_value'",
     "output_type": "error",
     "traceback": [
      "\u001b[31m---------------------------------------------------------------------------\u001b[39m",
      "\u001b[31mAttributeError\u001b[39m                            Traceback (most recent call last)",
      "\u001b[32m~\\AppData\\Local\\Temp\\ipykernel_25404\\3796922392.py\u001b[39m in \u001b[36m?\u001b[39m\u001b[34m()\u001b[39m\n\u001b[32m      2\u001b[39m print(\u001b[33m\"Total Revenue:\"\u001b[39m, total_revenue(df))\n\u001b[32m      3\u001b[39m print(\u001b[33m\"Total Units Sold:\"\u001b[39m, total_units(df))\n\u001b[32m      4\u001b[39m print(\u001b[33m\"Average Order Value (AOV):\"\u001b[39m, aov(df))\n\u001b[32m      5\u001b[39m \n\u001b[32m----> \u001b[39m\u001b[32m6\u001b[39m print(\u001b[33m\"\\nRevenue by Category:\\n\"\u001b[39m, revenue_by_category(df))\n\u001b[32m      7\u001b[39m print(\u001b[33m\"\\nRevenue by City:\\n\"\u001b[39m, revenue_by_city(df))\n\u001b[32m      8\u001b[39m print(\u001b[33m\"\\nTop Categories:\\n\"\u001b[39m, top_categories(df))\n",
      "\u001b[32mc:\\Users\\hamed\\OneDrive\\Desktop\\HDM V3\\src\\metrics.py\u001b[39m in \u001b[36m?\u001b[39m\u001b[34m(df)\u001b[39m\n\u001b[32m     12\u001b[39m \u001b[38;5;28;01mdef\u001b[39;00m revenue_by_category(df):\n\u001b[32m---> \u001b[39m\u001b[32m13\u001b[39m     \u001b[38;5;28;01mreturn\u001b[39;00m df.groupby(\u001b[33m'category'\u001b[39m)[\u001b[33m'revenue'\u001b[39m].sum().sort_values(ascending =\u001b[38;5;28;01mFalse\u001b[39;00m)\n",
      "\u001b[32mc:\\Users\\hamed\\OneDrive\\Desktop\\HDM V3\\.venv\\Lib\\site-packages\\pandas\\core\\generic.py\u001b[39m in \u001b[36m?\u001b[39m\u001b[34m(self, name)\u001b[39m\n\u001b[32m   6317\u001b[39m             \u001b[38;5;28;01mand\u001b[39;00m name \u001b[38;5;28;01mnot\u001b[39;00m \u001b[38;5;28;01min\u001b[39;00m self._accessors\n\u001b[32m   6318\u001b[39m             \u001b[38;5;28;01mand\u001b[39;00m self._info_axis._can_hold_identifiers_and_holds_name(name)\n\u001b[32m   6319\u001b[39m         ):\n\u001b[32m   6320\u001b[39m             \u001b[38;5;28;01mreturn\u001b[39;00m self[name]\n\u001b[32m-> \u001b[39m\u001b[32m6321\u001b[39m         \u001b[38;5;28;01mreturn\u001b[39;00m object.__getattribute__(self, name)\n",
      "\u001b[31mAttributeError\u001b[39m: 'Series' object has no attribute 'sort_value'"
     ]
    }
   ],
   "source": [
    "# Visa metrics\n",
    "print(\"Total Revenue:\", total_revenue(df))\n",
    "print(\"Total Units Sold:\", total_units(df))\n",
    "print(\"Average Order Value (AOV):\", aov(df))\n",
    "\n",
    "print(\"\\nRevenue by Category:\\n\", revenue_by_category(df))\n",
    "print(\"\\nRevenue by City:\\n\", revenue_by_city(df))\n",
    "print(\"\\nTop Categories:\\n\", top_categories(df))"
   ]
  },
  {
   "cell_type": "code",
   "execution_count": null,
   "id": "64bed9f5",
   "metadata": {},
   "outputs": [],
   "source": [
    "# Beskriva ovan..."
   ]
  },
  {
   "cell_type": "code",
   "execution_count": null,
   "id": "a42c767c",
   "metadata": {},
   "outputs": [],
   "source": [
    "# Visualizations\n",
    "from src.viz import plot_revenue_by_category, plot_sales_over_time\n",
    "\n",
    "fig1, ax1 = plot_revenue_by_category(df)\n",
    "fig2, ax2 = plot_sales_over_time(df)"
   ]
  },
  {
   "cell_type": "code",
   "execution_count": null,
   "id": "3ed9900b",
   "metadata": {},
   "outputs": [],
   "source": [
    "# beskriva ovan.."
   ]
  },
  {
   "cell_type": "markdown",
   "id": "03215d04",
   "metadata": {},
   "source": [
    "---"
   ]
  }
 ],
 "metadata": {
  "kernelspec": {
   "display_name": ".venv (3.13.7)",
   "language": "python",
   "name": "python3"
  },
  "language_info": {
   "codemirror_mode": {
    "name": "ipython",
    "version": 3
   },
   "file_extension": ".py",
   "mimetype": "text/x-python",
   "name": "python",
   "nbconvert_exporter": "python",
   "pygments_lexer": "ipython3",
   "version": "3.13.7"
  }
 },
 "nbformat": 4,
 "nbformat_minor": 5
}
