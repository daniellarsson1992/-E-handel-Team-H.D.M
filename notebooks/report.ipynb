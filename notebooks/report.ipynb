{
 "cells": [
  {
   "cell_type": "markdown",
   "id": "1e04e9d1",
   "metadata": {},
   "source": [
    "# Notebook: E-handelsplattformen (Grupp 1: Daniel, Hami, Martin W)"
   ]
  },
  {
   "cell_type": "markdown",
   "id": "6adb06cf",
   "metadata": {},
   "source": [
    "Vi är ett team som analyserar försäljningsdata från en påhittad e-handelsplattform.  \n",
    "Vi ska ge ledningen ett snabbt beslutsunderlag inför nästa kampanjperiod.\n",
    "\n",
    "Datasetet innehåller:\n",
    "- `order_id`\n",
    "- `date`\n",
    "- `city`\n",
    "- `category`\n",
    "- `price`\n",
    "- `units`\n",
    "- `revenue`"
   ]
  },
  {
   "cell_type": "code",
   "execution_count": null,
   "id": "2e329c0f",
   "metadata": {},
   "outputs": [],
   "source": [
    "# För att få relative path utifrån notebookens workspace mapp.\n",
    "import sys, os \n",
    "sys.path.append(os.path.abspath(\"..\"))"
   ]
  },
  {
   "cell_type": "code",
   "execution_count": null,
   "id": "b50f2470",
   "metadata": {},
   "outputs": [],
   "source": [
    "# Läs in data\n",
    "from src.io_utils import load_csv\n",
    "df = load_csv(\"../data/ecommerce_sales.csv\")\n",
    "# Kolla 2 rader\n",
    "df.head(2)"
   ]
  },
  {
   "cell_type": "markdown",
   "id": "e553be9d",
   "metadata": {},
   "source": [
    "---"
   ]
  },
  {
   "cell_type": "markdown",
   "id": "ad480192",
   "metadata": {},
   "source": [
    "Vi ska svara följande affärsfrågor:\n",
    "1. Vad säljer? – Vilka kategorier driver mest intäkt?  \n",
    "2. Var säljer vi? – Vilka städer står för störst intäkt?  \n",
    "3. När säljer vi? – Finns säsongsmönster i försäljningen?  \n",
    "4. Hur ser en typisk order ut? – AOV (Average Order Value).  \n",
    "5. Topp-3 kategorier efter intäkt.  \n",
    "6. Eventuella avvikelser.  "
   ]
  },
  {
   "cell_type": "code",
   "execution_count": null,
   "id": "b2d1b76c",
   "metadata": {},
   "outputs": [],
   "source": [
    "# Importera funktioner \n",
    "from src.metrics import total_revenue, total_units, aov, revenue_by_category, revenue_by_city, top_categories\n",
    "import pandas as pd"
   ]
  },
  {
   "cell_type": "code",
   "execution_count": null,
   "id": "d996b4fa",
   "metadata": {},
   "outputs": [],
   "source": [
    "# Visa metrics\n",
    "print(\"Total Revenue:\", total_revenue(df))\n",
    "print(\"Total Units Sold:\", total_units(df))\n",
    "print(\"Average Order Value (AOV):\", aov(df))\n",
    "\n",
    "print(\"\\nRevenue by Category:\\n\", revenue_by_category(df))\n",
    "print(\"\\nRevenue by City:\\n\", revenue_by_city(df))\n",
    "print(\"\\nTop Categories:\\n\", top_categories(df))"
   ]
  },
  {
   "cell_type": "code",
   "execution_count": null,
   "id": "64bed9f5",
   "metadata": {},
   "outputs": [],
   "source": [
    "# Beskriva ovan..."
   ]
  },
  {
   "cell_type": "code",
   "execution_count": null,
   "id": "a42c767c",
   "metadata": {},
   "outputs": [],
   "source": [
    "# Visualizations\n",
    "from src.viz import plot_revenue_by_category, plot_sales_over_time\n",
    "\n",
    "fig1, ax1 = plot_revenue_by_category(df)\n",
    "fig2, ax2 = plot_sales_over_time(df)"
   ]
  },
  {
   "cell_type": "code",
   "execution_count": null,
   "id": "3ed9900b",
   "metadata": {},
   "outputs": [],
   "source": [
    "# beskriva ovan.."
   ]
  },
  {
   "cell_type": "markdown",
   "id": "03215d04",
   "metadata": {},
   "source": [
    "---"
   ]
  }
 ],
 "metadata": {
  "kernelspec": {
   "display_name": "Python 3",
   "language": "python",
   "name": "python3"
  },
  "language_info": {
   "codemirror_mode": {
    "name": "ipython",
    "version": 3
   },
   "file_extension": ".py",
   "mimetype": "text/x-python",
   "name": "python",
   "nbconvert_exporter": "python",
   "pygments_lexer": "ipython3",
   "version": "3.11.9"
  }
 },
 "nbformat": 4,
 "nbformat_minor": 5
}
